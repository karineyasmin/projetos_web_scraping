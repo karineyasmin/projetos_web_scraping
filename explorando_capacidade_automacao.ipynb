{
 "cells": [
  {
   "cell_type": "markdown",
   "metadata": {},
   "source": [
    "#### Explorando as capacidade de automação de interações\n",
    "\n",
    "##### Live coding https://quotes.toscrape.com/\n",
    "\n",
    "- ##### login\n",
    "- ##### filtro\n",
    "- ##### paginação\n",
    "- ##### localizar elemento"
   ]
  },
  {
   "cell_type": "code",
   "execution_count": 11,
   "metadata": {},
   "outputs": [],
   "source": [
    "from selenium import webdriver\n",
    "from selenium.webdriver.common.by import By"
   ]
  },
  {
   "cell_type": "code",
   "execution_count": 12,
   "metadata": {},
   "outputs": [],
   "source": [
    "# Abre o Chrome e acessa o link\n",
    "driver = webdriver.Chrome()\n",
    "driver.get('https://quotes.toscrape.com/')"
   ]
  },
  {
   "cell_type": "code",
   "execution_count": 13,
   "metadata": {},
   "outputs": [],
   "source": [
    "login_button = driver.find_element(By.XPATH, '/html/body/div/div[1]/div[2]/p/a')\n",
    "login_button.click()"
   ]
  },
  {
   "cell_type": "code",
   "execution_count": 14,
   "metadata": {},
   "outputs": [],
   "source": [
    "# Seleciona campo de username\n",
    "username = driver.find_element(By.XPATH, '//*[@id=\"username\"]')\n",
    "\n",
    "# Insere no campo username\n",
    "username.send_keys('admin')"
   ]
  },
  {
   "cell_type": "code",
   "execution_count": 15,
   "metadata": {},
   "outputs": [],
   "source": [
    "password = driver.find_element(By.XPATH, '//*[@id=\"password\"]')\n",
    "password.send_keys('admin')"
   ]
  },
  {
   "cell_type": "code",
   "execution_count": 16,
   "metadata": {},
   "outputs": [],
   "source": [
    "# Seleciona o botão de login\n",
    "login_button2 = driver.find_element(By.XPATH, '/html/body/div/form/input[2]')\n",
    "\n",
    "# Clica no botão\n",
    "login_button2.click()"
   ]
  },
  {
   "cell_type": "code",
   "execution_count": 17,
   "metadata": {},
   "outputs": [],
   "source": [
    "tag_humor = driver.find_element(By.XPATH,'/html/body/div/div[2]/div[2]/span[4]/a')\n",
    "tag_humor.click()\n",
    "\n",
    "next = driver.find_element(By.XPATH,'/html/body/div/div[2]/div[1]/nav/ul/li/a')\n",
    "next.click()"
   ]
  },
  {
   "cell_type": "code",
   "execution_count": 18,
   "metadata": {},
   "outputs": [
    {
     "data": {
      "text/plain": [
       "'“I am free of all prejudice. I hate everyone equally. ”\\nby W.C. Fields (about) - (Goodreads page)\\nTags: humor sinister'"
      ]
     },
     "execution_count": 18,
     "metadata": {},
     "output_type": "execute_result"
    }
   ],
   "source": [
    "# Encontra o objeto que pertence a classe quote na página\n",
    "quote = driver.find_element(By.CLASS_NAME, 'quote').text\n",
    "quote"
   ]
  }
 ],
 "metadata": {
  "kernelspec": {
   "display_name": "Python 3",
   "language": "python",
   "name": "python3"
  },
  "language_info": {
   "codemirror_mode": {
    "name": "ipython",
    "version": 3
   },
   "file_extension": ".py",
   "mimetype": "text/x-python",
   "name": "python",
   "nbconvert_exporter": "python",
   "pygments_lexer": "ipython3",
   "version": "3.12.0"
  }
 },
 "nbformat": 4,
 "nbformat_minor": 2
}
